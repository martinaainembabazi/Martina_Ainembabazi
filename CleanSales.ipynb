{
 "cells": [
  {
   "cell_type": "code",
   "execution_count": 6,
   "id": "ed97cf6c",
   "metadata": {},
   "outputs": [],
   "source": [
    "import pandas as pd\n",
    "import numpy as np"
   ]
  },
  {
   "cell_type": "code",
   "execution_count": 7,
   "id": "d8f90212",
   "metadata": {},
   "outputs": [],
   "source": [
    "df = pd.read_csv('Sales.csv')"
   ]
  },
  {
   "cell_type": "code",
   "execution_count": 8,
   "id": "3c60facd",
   "metadata": {},
   "outputs": [
    {
     "name": "stdout",
     "output_type": "stream",
     "text": [
      "Original Dataset:\n"
     ]
    },
    {
     "data": {
      "text/html": [
       "<div>\n",
       "<style scoped>\n",
       "    .dataframe tbody tr th:only-of-type {\n",
       "        vertical-align: middle;\n",
       "    }\n",
       "\n",
       "    .dataframe tbody tr th {\n",
       "        vertical-align: top;\n",
       "    }\n",
       "\n",
       "    .dataframe thead th {\n",
       "        text-align: right;\n",
       "    }\n",
       "</style>\n",
       "<table border=\"1\" class=\"dataframe\">\n",
       "  <thead>\n",
       "    <tr style=\"text-align: right;\">\n",
       "      <th></th>\n",
       "      <th>Order ID</th>\n",
       "      <th>Customer Name</th>\n",
       "      <th>Order Date</th>\n",
       "      <th>Product</th>\n",
       "      <th>Quantity</th>\n",
       "      <th>Unit Price</th>\n",
       "      <th>Total Revenue</th>\n",
       "    </tr>\n",
       "  </thead>\n",
       "  <tbody>\n",
       "    <tr>\n",
       "      <th>0</th>\n",
       "      <td>1001</td>\n",
       "      <td>John Doe</td>\n",
       "      <td>01/01/2024</td>\n",
       "      <td>Widget A</td>\n",
       "      <td>10.0</td>\n",
       "      <td>25.0</td>\n",
       "      <td>250.0</td>\n",
       "    </tr>\n",
       "    <tr>\n",
       "      <th>1</th>\n",
       "      <td>1002</td>\n",
       "      <td>Jane Smith</td>\n",
       "      <td>01/02/2024</td>\n",
       "      <td>Widget B</td>\n",
       "      <td>5.0</td>\n",
       "      <td>40.0</td>\n",
       "      <td>200.0</td>\n",
       "    </tr>\n",
       "    <tr>\n",
       "      <th>2</th>\n",
       "      <td>1003</td>\n",
       "      <td>NaN</td>\n",
       "      <td>2024/01/03'</td>\n",
       "      <td>Widget A</td>\n",
       "      <td>NaN</td>\n",
       "      <td>25.0</td>\n",
       "      <td>NaN</td>\n",
       "    </tr>\n",
       "    <tr>\n",
       "      <th>3</th>\n",
       "      <td>1004</td>\n",
       "      <td>Alice Johnson</td>\n",
       "      <td>04/01/2024</td>\n",
       "      <td>Widget C</td>\n",
       "      <td>3.0</td>\n",
       "      <td>NaN</td>\n",
       "      <td>210.0</td>\n",
       "    </tr>\n",
       "    <tr>\n",
       "      <th>4</th>\n",
       "      <td>1005</td>\n",
       "      <td>Bob Brown</td>\n",
       "      <td>2024/01/05'</td>\n",
       "      <td>Widget B</td>\n",
       "      <td>10.0</td>\n",
       "      <td>40.0</td>\n",
       "      <td>400.0</td>\n",
       "    </tr>\n",
       "    <tr>\n",
       "      <th>5</th>\n",
       "      <td>1006</td>\n",
       "      <td>John Doe</td>\n",
       "      <td>06/01/2024</td>\n",
       "      <td>Widget A</td>\n",
       "      <td>4.0</td>\n",
       "      <td>25.0</td>\n",
       "      <td>100.0</td>\n",
       "    </tr>\n",
       "    <tr>\n",
       "      <th>6</th>\n",
       "      <td>1001</td>\n",
       "      <td>John Doe</td>\n",
       "      <td>01/01/2024</td>\n",
       "      <td>Widget A</td>\n",
       "      <td>10.0</td>\n",
       "      <td>25.0</td>\n",
       "      <td>250.0</td>\n",
       "    </tr>\n",
       "    <tr>\n",
       "      <th>7</th>\n",
       "      <td>1007</td>\n",
       "      <td>Jane Smith</td>\n",
       "      <td>07/01/2024</td>\n",
       "      <td>Widget C</td>\n",
       "      <td>-6.0</td>\n",
       "      <td>70.0</td>\n",
       "      <td>-420.0</td>\n",
       "    </tr>\n",
       "  </tbody>\n",
       "</table>\n",
       "</div>"
      ],
      "text/plain": [
       "   Order ID  Customer Name   Order Date   Product  Quantity  Unit Price  \\\n",
       "0      1001       John Doe   01/01/2024  Widget A      10.0        25.0   \n",
       "1      1002     Jane Smith   01/02/2024  Widget B       5.0        40.0   \n",
       "2      1003            NaN  2024/01/03'  Widget A       NaN        25.0   \n",
       "3      1004  Alice Johnson   04/01/2024  Widget C       3.0         NaN   \n",
       "4      1005      Bob Brown  2024/01/05'  Widget B      10.0        40.0   \n",
       "5      1006       John Doe   06/01/2024  Widget A       4.0        25.0   \n",
       "6      1001       John Doe   01/01/2024  Widget A      10.0        25.0   \n",
       "7      1007     Jane Smith   07/01/2024  Widget C      -6.0        70.0   \n",
       "\n",
       "   Total Revenue  \n",
       "0          250.0  \n",
       "1          200.0  \n",
       "2            NaN  \n",
       "3          210.0  \n",
       "4          400.0  \n",
       "5          100.0  \n",
       "6          250.0  \n",
       "7         -420.0  "
      ]
     },
     "metadata": {},
     "output_type": "display_data"
    },
    {
     "name": "stdout",
     "output_type": "stream",
     "text": [
      "\n",
      "\n",
      "\n"
     ]
    }
   ],
   "source": [
    "print(\"Original Dataset:\")\n",
    "display(df)\n",
    "print(\"\\n\\n\")\n"
   ]
  },
  {
   "cell_type": "code",
   "execution_count": 9,
   "id": "4435f8f6",
   "metadata": {},
   "outputs": [],
   "source": [
    "df['Customer Name'] = df['Customer Name'].fillna('Unknown')"
   ]
  },
  {
   "cell_type": "code",
   "execution_count": 10,
   "id": "39336bff",
   "metadata": {},
   "outputs": [],
   "source": [
    "df['Quantity'] = df['Quantity'].fillna(0)\n",
    "df['Total Revenue'] = df['Total Revenue'].fillna(0)"
   ]
  },
  {
   "cell_type": "code",
   "execution_count": 11,
   "id": "cdb1bbc9",
   "metadata": {},
   "outputs": [],
   "source": [
    "for index, row in df.iterrows():\n",
    "    if pd.isna(row['Unit Price']):\n",
    "        product = row['Product']\n",
    "        # Try to calculate from Total Revenue and Quantity if possible\n",
    "        if row['Total Revenue'] != 0 and row['Quantity'] != 0:\n",
    "            df.at[index, 'Unit Price'] = row['Total Revenue'] / row['Quantity']\n",
    "        else:\n",
    "            # Use median price for that product\n",
    "            median_price = df[df['Product'] == product]['Unit Price'].median()\n",
    "            df.at[index, 'Unit Price'] = median_price"
   ]
  },
  {
   "cell_type": "code",
   "execution_count": 12,
   "id": "c8d27e93",
   "metadata": {},
   "outputs": [],
   "source": [
    "df['Order Date'] = df['Order Date'].str.replace(\"'\", \"\")\n",
    "\n",
    "# Then convert to datetime, trying multiple formats\n",
    "df['Order Date'] = pd.to_datetime(df['Order Date'], errors='coerce', format='mixed')"
   ]
  },
  {
   "cell_type": "code",
   "execution_count": 13,
   "id": "42e8576b",
   "metadata": {},
   "outputs": [],
   "source": [
    "df = df.dropna(subset=['Order Date'])\n",
    "\n",
    "# 3. Remove Duplicate Rows\n",
    "df = df.drop_duplicates()"
   ]
  },
  {
   "cell_type": "code",
   "execution_count": 14,
   "id": "d8b0c8e6",
   "metadata": {},
   "outputs": [],
   "source": [
    "df['Quantity'] = df['Quantity'].abs()\n",
    "df['Total Revenue'] = df['Total Revenue'].abs()"
   ]
  },
  {
   "cell_type": "code",
   "execution_count": 15,
   "id": "ee0c9a01",
   "metadata": {},
   "outputs": [],
   "source": [
    "for index, row in df.iterrows():\n",
    "    calculated_revenue = row['Quantity'] * row['Unit Price']\n",
    "    # If the existing revenue is more than 10% different from calculated, update it\n",
    "    if abs(row['Total Revenue'] - calculated_revenue) > (0.1 * calculated_revenue):\n",
    "        df.at[index, 'Total Revenue'] = calculated_revenue"
   ]
  },
  {
   "cell_type": "code",
   "execution_count": 16,
   "id": "189ef3b9",
   "metadata": {},
   "outputs": [
    {
     "name": "stdout",
     "output_type": "stream",
     "text": [
      "Cleaned Dataset:\n"
     ]
    },
    {
     "data": {
      "text/html": [
       "<div>\n",
       "<style scoped>\n",
       "    .dataframe tbody tr th:only-of-type {\n",
       "        vertical-align: middle;\n",
       "    }\n",
       "\n",
       "    .dataframe tbody tr th {\n",
       "        vertical-align: top;\n",
       "    }\n",
       "\n",
       "    .dataframe thead th {\n",
       "        text-align: right;\n",
       "    }\n",
       "</style>\n",
       "<table border=\"1\" class=\"dataframe\">\n",
       "  <thead>\n",
       "    <tr style=\"text-align: right;\">\n",
       "      <th></th>\n",
       "      <th>Order ID</th>\n",
       "      <th>Customer Name</th>\n",
       "      <th>Order Date</th>\n",
       "      <th>Product</th>\n",
       "      <th>Quantity</th>\n",
       "      <th>Unit Price</th>\n",
       "      <th>Total Revenue</th>\n",
       "    </tr>\n",
       "  </thead>\n",
       "  <tbody>\n",
       "    <tr>\n",
       "      <th>0</th>\n",
       "      <td>1001</td>\n",
       "      <td>John Doe</td>\n",
       "      <td>2024-01-01</td>\n",
       "      <td>Widget A</td>\n",
       "      <td>10.0</td>\n",
       "      <td>25.0</td>\n",
       "      <td>250.0</td>\n",
       "    </tr>\n",
       "    <tr>\n",
       "      <th>1</th>\n",
       "      <td>1002</td>\n",
       "      <td>Jane Smith</td>\n",
       "      <td>2024-01-02</td>\n",
       "      <td>Widget B</td>\n",
       "      <td>5.0</td>\n",
       "      <td>40.0</td>\n",
       "      <td>200.0</td>\n",
       "    </tr>\n",
       "    <tr>\n",
       "      <th>2</th>\n",
       "      <td>1003</td>\n",
       "      <td>Unknown</td>\n",
       "      <td>2024-01-03</td>\n",
       "      <td>Widget A</td>\n",
       "      <td>0.0</td>\n",
       "      <td>25.0</td>\n",
       "      <td>0.0</td>\n",
       "    </tr>\n",
       "    <tr>\n",
       "      <th>3</th>\n",
       "      <td>1004</td>\n",
       "      <td>Alice Johnson</td>\n",
       "      <td>2024-04-01</td>\n",
       "      <td>Widget C</td>\n",
       "      <td>3.0</td>\n",
       "      <td>70.0</td>\n",
       "      <td>210.0</td>\n",
       "    </tr>\n",
       "    <tr>\n",
       "      <th>4</th>\n",
       "      <td>1005</td>\n",
       "      <td>Bob Brown</td>\n",
       "      <td>2024-01-05</td>\n",
       "      <td>Widget B</td>\n",
       "      <td>10.0</td>\n",
       "      <td>40.0</td>\n",
       "      <td>400.0</td>\n",
       "    </tr>\n",
       "    <tr>\n",
       "      <th>5</th>\n",
       "      <td>1006</td>\n",
       "      <td>John Doe</td>\n",
       "      <td>2024-06-01</td>\n",
       "      <td>Widget A</td>\n",
       "      <td>4.0</td>\n",
       "      <td>25.0</td>\n",
       "      <td>100.0</td>\n",
       "    </tr>\n",
       "    <tr>\n",
       "      <th>7</th>\n",
       "      <td>1007</td>\n",
       "      <td>Jane Smith</td>\n",
       "      <td>2024-07-01</td>\n",
       "      <td>Widget C</td>\n",
       "      <td>6.0</td>\n",
       "      <td>70.0</td>\n",
       "      <td>420.0</td>\n",
       "    </tr>\n",
       "  </tbody>\n",
       "</table>\n",
       "</div>"
      ],
      "text/plain": [
       "   Order ID  Customer Name Order Date   Product  Quantity  Unit Price  \\\n",
       "0      1001       John Doe 2024-01-01  Widget A      10.0        25.0   \n",
       "1      1002     Jane Smith 2024-01-02  Widget B       5.0        40.0   \n",
       "2      1003        Unknown 2024-01-03  Widget A       0.0        25.0   \n",
       "3      1004  Alice Johnson 2024-04-01  Widget C       3.0        70.0   \n",
       "4      1005      Bob Brown 2024-01-05  Widget B      10.0        40.0   \n",
       "5      1006       John Doe 2024-06-01  Widget A       4.0        25.0   \n",
       "7      1007     Jane Smith 2024-07-01  Widget C       6.0        70.0   \n",
       "\n",
       "   Total Revenue  \n",
       "0          250.0  \n",
       "1          200.0  \n",
       "2            0.0  \n",
       "3          210.0  \n",
       "4          400.0  \n",
       "5          100.0  \n",
       "7          420.0  "
      ]
     },
     "metadata": {},
     "output_type": "display_data"
    },
    {
     "name": "stdout",
     "output_type": "stream",
     "text": [
      "\n",
      "Cleaned dataset saved to 'Cleaned_Sales.csv'\n"
     ]
    }
   ],
   "source": [
    "print(\"Cleaned Dataset:\")\n",
    "display(df)\n",
    "\n",
    "# Save the cleaned dataset to a new CSV file\n",
    "df.to_csv('Cleaned_Sales.csv', index=False)\n",
    "print(\"\\nCleaned dataset saved to 'Cleaned_Sales.csv'\")"
   ]
  }
 ],
 "metadata": {
  "kernelspec": {
   "display_name": "base",
   "language": "python",
   "name": "python3"
  },
  "language_info": {
   "codemirror_mode": {
    "name": "ipython",
    "version": 3
   },
   "file_extension": ".py",
   "mimetype": "text/x-python",
   "name": "python",
   "nbconvert_exporter": "python",
   "pygments_lexer": "ipython3",
   "version": "3.12.7"
  }
 },
 "nbformat": 4,
 "nbformat_minor": 5
}
