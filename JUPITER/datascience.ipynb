{
 "cells": [
  {
   "cell_type": "code",
   "execution_count": null,
   "id": "b545b67f",
   "metadata": {},
   "outputs": [],
   "source": [
    "#data science with python\n"
   ]
  },
  {
   "cell_type": "code",
   "execution_count": null,
   "id": "2b2afe8b",
   "metadata": {
    "vscode": {
     "languageId": "markdown"
    }
   },
   "outputs": [],
   "source": [
    "# Data science is an interdisciplinary field that uses scientific methods, algorithms, and systems to extract knowledge and insights from structured and unstructured data.\n",
    "# It combines aspects of statistics, computer science, and domain expertise to analyze and interpret complex data.\n",
    "# Data science matters because it helps organizations make data-driven decisions, uncover patterns, predict outcomes, and gain a competitive advantage in various industries.\n",
    "#difference between data science ,Data Engneer and data analyst\n",
    "# Data Science: Focuses on extracting insights and knowledge from data using statistical analysis, machine learning, and data visualization.\n",
    "# Data Engineer: Primarily responsible for building and maintaining the infrastructure and architecture for data storage, processing, and retrieval.\n",
    "#data analyst: Analyzes data to provide actionable insights, often using statistical techniques and data visualization tools, but may not be involved in building data pipelines or infrastructure.\n",
    "#Tools and technologies used in data science include programming languages (Python, R), data manipulation libraries (Pandas, NumPy), machine learning frameworks (TensorFlow, scikit-learn), and data visualization tools (Matplotlib, Tableau).\n",
    "\n",
    "\n",
    "\n"
   ]
  },
  {
   "cell_type": "code",
   "execution_count": 2,
   "id": "67ee481d",
   "metadata": {},
   "outputs": [
    {
     "name": "stdout",
     "output_type": "stream",
     "text": [
      "how to use python for data science\n"
     ]
    }
   ],
   "source": [
    "print(\"how to use python for data science\")"
   ]
  },
  {
   "cell_type": "code",
   "execution_count": null,
   "id": "9a7d2000",
   "metadata": {},
   "outputs": [],
   "source": []
  }
 ],
 "metadata": {
  "kernelspec": {
   "display_name": "base",
   "language": "python",
   "name": "python3"
  },
  "language_info": {
   "codemirror_mode": {
    "name": "ipython",
    "version": 3
   },
   "file_extension": ".py",
   "mimetype": "text/x-python",
   "name": "python",
   "nbconvert_exporter": "python",
   "pygments_lexer": "ipython3",
   "version": "3.12.7"
  }
 },
 "nbformat": 4,
 "nbformat_minor": 5
}
