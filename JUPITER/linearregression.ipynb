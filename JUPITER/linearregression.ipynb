{
 "cells": [
  {
   "cell_type": "code",
   "execution_count": null,
   "id": "89816e5d",
   "metadata": {},
   "outputs": [],
   "source": [
    "#Linear regression is a statistical method used to find the relationship between one dependent variable (output) and one or more independent variables (inputs) by fitting a straight line through the data points.\n",
    "\n",
    "#✅ Goal:\n",
    "#To find the best-fitting straight line (called the regression line) that predicts the output variable as accurately as possible from the input variable(s).\n",
    "\n",
    "#the main aim is to develop a machine learnii"
   ]
  },
  {
   "cell_type": "code",
   "execution_count": null,
   "id": "eabd158c",
   "metadata": {},
   "outputs": [],
   "source": [
    "import numpy as py\n",
    "import pandas as pd\n",
    "import matplotlib.pyplot as plt\n",
    "import seaborn as sb\n",
    "from sklearn.model_selection import train_test_split\n",
    "from sklearn.preprocessing import LabelEncoder,StandardScaler\n",
    "from  sklearn.feature_extraction.text import CountVectorizer\n",
    "from sklearn import metrics\n",
    "from xgboost import XGBreg"
   ]
  }
 ],
 "metadata": {
  "language_info": {
   "name": "python"
  }
 },
 "nbformat": 4,
 "nbformat_minor": 5
}
