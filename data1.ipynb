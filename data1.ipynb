{
 "cells": [
  {
   "cell_type": "code",
   "execution_count": 3,
   "id": "2d5b1f20",
   "metadata": {},
   "outputs": [
    {
     "name": "stdout",
     "output_type": "stream",
     "text": [
      "we are learning data science\n"
     ]
    }
   ],
   "source": [
    "#reading  and writing files\n",
    "file=open(\"tina.txt\",\"r\")#r for read mode\n",
    "file_content=file.read()#read the file\n",
    "print(file_content)#print the content of the file\n",
    "file.close()#close the file"
   ]
  },
  {
   "cell_type": "code",
   "execution_count": 6,
   "id": "f6e2d60e",
   "metadata": {},
   "outputs": [],
   "source": [
    "#writing to a file\n",
    "with open(\"tin.txt\",\"w\") as file:#w for write mode\n",
    " file.write(\"Learning how to write into the file\")#write to the file\n",
    "\n"
   ]
  },
  {
   "cell_type": "code",
   "execution_count": 1,
   "id": "421dbd62",
   "metadata": {},
   "outputs": [
    {
     "name": "stdout",
     "output_type": "stream",
     "text": [
      "Learning how to write into the file\n",
      "Appending new content to the file\n"
     ]
    }
   ],
   "source": [
    "#appending to a file\n",
    "with open(\"tin.txt\",\"a\") as file:#a for append mode\n",
    "    file.write(\"\\nAppending new content to the file\")#append to the file\n",
    "#reading the file again to see the changes\n",
    "with open(\"tin.txt\",\"r\") as file:\n",
    "    file_content = file.read()  # read the updated file\n",
    "    print(file_content)  # print the updated content of the file"
   ]
  }
 ],
 "metadata": {
  "kernelspec": {
   "display_name": "base",
   "language": "python",
   "name": "python3"
  },
  "language_info": {
   "codemirror_mode": {
    "name": "ipython",
    "version": 3
   },
   "file_extension": ".py",
   "mimetype": "text/x-python",
   "name": "python",
   "nbconvert_exporter": "python",
   "pygments_lexer": "ipython3",
   "version": "3.12.7"
  }
 },
 "nbformat": 4,
 "nbformat_minor": 5
}
