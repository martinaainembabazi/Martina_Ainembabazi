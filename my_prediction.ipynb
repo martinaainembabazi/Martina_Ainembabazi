{
 "cells": [
  {
   "cell_type": "code",
   "execution_count": 1,
   "id": "56945d91",
   "metadata": {},
   "outputs": [],
   "source": [
    "import pandas as pd\n",
    "import numpy as np\n",
    "import matplotlib.pyplot as plt\n",
    "import seaborn as sns\n",
    "from datetime import datetime"
   ]
  },
  {
   "cell_type": "code",
   "execution_count": 2,
   "id": "683e27d5",
   "metadata": {},
   "outputs": [
    {
     "data": {
      "text/html": [
       "<div>\n",
       "<style scoped>\n",
       "    .dataframe tbody tr th:only-of-type {\n",
       "        vertical-align: middle;\n",
       "    }\n",
       "\n",
       "    .dataframe tbody tr th {\n",
       "        vertical-align: top;\n",
       "    }\n",
       "\n",
       "    .dataframe thead th {\n",
       "        text-align: right;\n",
       "    }\n",
       "</style>\n",
       "<table border=\"1\" class=\"dataframe\">\n",
       "  <thead>\n",
       "    <tr style=\"text-align: right;\">\n",
       "      <th></th>\n",
       "      <th>Date</th>\n",
       "      <th>Open</th>\n",
       "      <th>High</th>\n",
       "      <th>Low</th>\n",
       "      <th>Close</th>\n",
       "      <th>Volume</th>\n",
       "      <th>Predicted_Close</th>\n",
       "      <th>Currency_Pair</th>\n",
       "      <th>Signal</th>\n",
       "      <th>Confidence</th>\n",
       "    </tr>\n",
       "  </thead>\n",
       "  <tbody>\n",
       "    <tr>\n",
       "      <th>0</th>\n",
       "      <td>2024-01-01</td>\n",
       "      <td>1.18727</td>\n",
       "      <td>1.92461</td>\n",
       "      <td>0.85312</td>\n",
       "      <td>1.18154</td>\n",
       "      <td>2201</td>\n",
       "      <td>1.22984</td>\n",
       "      <td>EUR/USD</td>\n",
       "      <td>Hold</td>\n",
       "      <td>0.90</td>\n",
       "    </tr>\n",
       "    <tr>\n",
       "      <th>1</th>\n",
       "      <td>2024-01-02</td>\n",
       "      <td>1.47536</td>\n",
       "      <td>1.82881</td>\n",
       "      <td>0.54067</td>\n",
       "      <td>1.32296</td>\n",
       "      <td>error</td>\n",
       "      <td>1.03797</td>\n",
       "      <td>EUR/USD</td>\n",
       "      <td>Sell</td>\n",
       "      <td>NaN</td>\n",
       "    </tr>\n",
       "    <tr>\n",
       "      <th>2</th>\n",
       "      <td>2024-01-03</td>\n",
       "      <td>1.36600</td>\n",
       "      <td>1.78415</td>\n",
       "      <td>0.54242</td>\n",
       "      <td>1.28539</td>\n",
       "      <td>4420</td>\n",
       "      <td>1.03888</td>\n",
       "      <td>EUR/USD</td>\n",
       "      <td>Sell</td>\n",
       "      <td>NaN</td>\n",
       "    </tr>\n",
       "    <tr>\n",
       "      <th>3</th>\n",
       "      <td>2024-01-04</td>\n",
       "      <td>1.29933</td>\n",
       "      <td>1.54684</td>\n",
       "      <td>0.99332</td>\n",
       "      <td>1.17805</td>\n",
       "      <td>4079</td>\n",
       "      <td>1.00117</td>\n",
       "      <td>EUR/USD</td>\n",
       "      <td>Sell</td>\n",
       "      <td>0.64</td>\n",
       "    </tr>\n",
       "    <tr>\n",
       "      <th>4</th>\n",
       "      <td>2024-01-05</td>\n",
       "      <td>1.07801</td>\n",
       "      <td>1.68386</td>\n",
       "      <td>0.68714</td>\n",
       "      <td>NaN</td>\n",
       "      <td>1832</td>\n",
       "      <td>1.48385</td>\n",
       "      <td>EUR/USD</td>\n",
       "      <td>Sell</td>\n",
       "      <td>0.68</td>\n",
       "    </tr>\n",
       "  </tbody>\n",
       "</table>\n",
       "</div>"
      ],
      "text/plain": [
       "         Date     Open     High      Low    Close Volume  Predicted_Close  \\\n",
       "0  2024-01-01  1.18727  1.92461  0.85312  1.18154   2201          1.22984   \n",
       "1  2024-01-02  1.47536  1.82881  0.54067  1.32296  error          1.03797   \n",
       "2  2024-01-03  1.36600  1.78415  0.54242  1.28539   4420          1.03888   \n",
       "3  2024-01-04  1.29933  1.54684  0.99332  1.17805   4079          1.00117   \n",
       "4  2024-01-05  1.07801  1.68386  0.68714      NaN   1832          1.48385   \n",
       "\n",
       "  Currency_Pair Signal  Confidence  \n",
       "0       EUR/USD   Hold        0.90  \n",
       "1       EUR/USD   Sell         NaN  \n",
       "2       EUR/USD   Sell         NaN  \n",
       "3       EUR/USD   Sell        0.64  \n",
       "4       EUR/USD   Sell        0.68  "
      ]
     },
     "execution_count": 2,
     "metadata": {},
     "output_type": "execute_result"
    }
   ],
   "source": [
    "df = pd.read_csv('forex_predictions_data.csv')\n",
    "\n",
    "# Intial inspection\n",
    "df.head()"
   ]
  },
  {
   "cell_type": "code",
   "execution_count": 3,
   "id": "b79e2f3a",
   "metadata": {},
   "outputs": [
    {
     "name": "stdout",
     "output_type": "stream",
     "text": [
      "<class 'pandas.core.frame.DataFrame'>\n",
      "RangeIndex: 229 entries, 0 to 228\n",
      "Data columns (total 10 columns):\n",
      " #   Column           Non-Null Count  Dtype  \n",
      "---  ------           --------------  -----  \n",
      " 0   Date             226 non-null    object \n",
      " 1   Open             224 non-null    float64\n",
      " 2   High             220 non-null    float64\n",
      " 3   Low              225 non-null    float64\n",
      " 4   Close            212 non-null    float64\n",
      " 5   Volume           226 non-null    object \n",
      " 6   Predicted_Close  222 non-null    float64\n",
      " 7   Currency_Pair    229 non-null    object \n",
      " 8   Signal           227 non-null    object \n",
      " 9   Confidence       218 non-null    float64\n",
      "dtypes: float64(6), object(4)\n",
      "memory usage: 18.0+ KB\n"
     ]
    },
    {
     "data": {
      "text/plain": [
       "Date                object\n",
       "Open               float64\n",
       "High               float64\n",
       "Low                float64\n",
       "Close              float64\n",
       "Volume              object\n",
       "Predicted_Close    float64\n",
       "Currency_Pair       object\n",
       "Signal              object\n",
       "Confidence         float64\n",
       "dtype: object"
      ]
     },
     "execution_count": 3,
     "metadata": {},
     "output_type": "execute_result"
    }
   ],
   "source": [
    "df.info()\n",
    "df.dtypes"
   ]
  },
  {
   "cell_type": "code",
   "execution_count": 4,
   "id": "3657d223",
   "metadata": {},
   "outputs": [
    {
     "data": {
      "text/html": [
       "<div>\n",
       "<style scoped>\n",
       "    .dataframe tbody tr th:only-of-type {\n",
       "        vertical-align: middle;\n",
       "    }\n",
       "\n",
       "    .dataframe tbody tr th {\n",
       "        vertical-align: top;\n",
       "    }\n",
       "\n",
       "    .dataframe thead th {\n",
       "        text-align: right;\n",
       "    }\n",
       "</style>\n",
       "<table border=\"1\" class=\"dataframe\">\n",
       "  <thead>\n",
       "    <tr style=\"text-align: right;\">\n",
       "      <th></th>\n",
       "      <th>Open</th>\n",
       "      <th>High</th>\n",
       "      <th>Low</th>\n",
       "      <th>Close</th>\n",
       "      <th>Predicted_Close</th>\n",
       "      <th>Confidence</th>\n",
       "    </tr>\n",
       "  </thead>\n",
       "  <tbody>\n",
       "    <tr>\n",
       "      <th>count</th>\n",
       "      <td>224.000000</td>\n",
       "      <td>220.000000</td>\n",
       "      <td>225.000000</td>\n",
       "      <td>212.000000</td>\n",
       "      <td>222.000000</td>\n",
       "      <td>218.000000</td>\n",
       "    </tr>\n",
       "    <tr>\n",
       "      <th>mean</th>\n",
       "      <td>1.239946</td>\n",
       "      <td>1.753113</td>\n",
       "      <td>0.750030</td>\n",
       "      <td>1.245072</td>\n",
       "      <td>1.250415</td>\n",
       "      <td>0.756468</td>\n",
       "    </tr>\n",
       "    <tr>\n",
       "      <th>std</th>\n",
       "      <td>0.148956</td>\n",
       "      <td>0.147816</td>\n",
       "      <td>0.150434</td>\n",
       "      <td>0.140594</td>\n",
       "      <td>0.156102</td>\n",
       "      <td>0.135125</td>\n",
       "    </tr>\n",
       "    <tr>\n",
       "      <th>min</th>\n",
       "      <td>1.002530</td>\n",
       "      <td>1.505420</td>\n",
       "      <td>0.505680</td>\n",
       "      <td>1.002320</td>\n",
       "      <td>1.000120</td>\n",
       "      <td>0.500000</td>\n",
       "    </tr>\n",
       "    <tr>\n",
       "      <th>25%</th>\n",
       "      <td>1.111860</td>\n",
       "      <td>1.638832</td>\n",
       "      <td>0.614320</td>\n",
       "      <td>1.122535</td>\n",
       "      <td>1.115280</td>\n",
       "      <td>0.652500</td>\n",
       "    </tr>\n",
       "    <tr>\n",
       "      <th>50%</th>\n",
       "      <td>1.248105</td>\n",
       "      <td>1.763400</td>\n",
       "      <td>0.746310</td>\n",
       "      <td>1.235910</td>\n",
       "      <td>1.259605</td>\n",
       "      <td>0.760000</td>\n",
       "    </tr>\n",
       "    <tr>\n",
       "      <th>75%</th>\n",
       "      <td>1.365100</td>\n",
       "      <td>1.877682</td>\n",
       "      <td>0.877570</td>\n",
       "      <td>1.368805</td>\n",
       "      <td>1.392158</td>\n",
       "      <td>0.870000</td>\n",
       "    </tr>\n",
       "    <tr>\n",
       "      <th>max</th>\n",
       "      <td>1.493440</td>\n",
       "      <td>1.995250</td>\n",
       "      <td>0.999860</td>\n",
       "      <td>1.498440</td>\n",
       "      <td>1.499680</td>\n",
       "      <td>1.000000</td>\n",
       "    </tr>\n",
       "  </tbody>\n",
       "</table>\n",
       "</div>"
      ],
      "text/plain": [
       "             Open        High         Low       Close  Predicted_Close  \\\n",
       "count  224.000000  220.000000  225.000000  212.000000       222.000000   \n",
       "mean     1.239946    1.753113    0.750030    1.245072         1.250415   \n",
       "std      0.148956    0.147816    0.150434    0.140594         0.156102   \n",
       "min      1.002530    1.505420    0.505680    1.002320         1.000120   \n",
       "25%      1.111860    1.638832    0.614320    1.122535         1.115280   \n",
       "50%      1.248105    1.763400    0.746310    1.235910         1.259605   \n",
       "75%      1.365100    1.877682    0.877570    1.368805         1.392158   \n",
       "max      1.493440    1.995250    0.999860    1.498440         1.499680   \n",
       "\n",
       "       Confidence  \n",
       "count  218.000000  \n",
       "mean     0.756468  \n",
       "std      0.135125  \n",
       "min      0.500000  \n",
       "25%      0.652500  \n",
       "50%      0.760000  \n",
       "75%      0.870000  \n",
       "max      1.000000  "
      ]
     },
     "execution_count": 4,
     "metadata": {},
     "output_type": "execute_result"
    }
   ],
   "source": [
    "df.describe()"
   ]
  },
  {
   "cell_type": "code",
   "execution_count": 5,
   "id": "a6fc8250",
   "metadata": {},
   "outputs": [
    {
     "name": "stdout",
     "output_type": "stream",
     "text": [
      "Missing values in each column:\n"
     ]
    },
    {
     "data": {
      "text/plain": [
       "Date                3\n",
       "Open                5\n",
       "High                9\n",
       "Low                 4\n",
       "Close              17\n",
       "Volume              3\n",
       "Predicted_Close     7\n",
       "Currency_Pair       0\n",
       "Signal              2\n",
       "Confidence         11\n",
       "dtype: int64"
      ]
     },
     "execution_count": 5,
     "metadata": {},
     "output_type": "execute_result"
    }
   ],
   "source": [
    "# Handling bad data:  empty cells/values, wrong data, wrong formats, duplicates, and outliers\n",
    "# Empty values\n",
    "# Check for missing values or null values\n",
    "print(\"Missing values in each column:\")\n",
    "df.isnull().sum()"
   ]
  },
  {
   "cell_type": "code",
   "execution_count": 6,
   "id": "60b0eaa4",
   "metadata": {},
   "outputs": [
    {
     "name": "stdout",
     "output_type": "stream",
     "text": [
      "Missing values after handling:\n",
      "Date               3\n",
      "Open               0\n",
      "High               0\n",
      "Low                0\n",
      "Close              0\n",
      "Volume             0\n",
      "Predicted_Close    0\n",
      "Currency_Pair      0\n",
      "Signal             0\n",
      "Confidence         0\n",
      "dtype: int64\n"
     ]
    }
   ],
   "source": [
    "# Handle missing values\n",
    "# For numerical columns, we can fill missing values with the mean or median\n",
    "numeric_cols = ['Open', 'High', 'Low', 'Close', 'Volume', 'Predicted_Close', 'Confidence']\n",
    "for col in numeric_cols:\n",
    "    if col in df.columns:\n",
    "        df[col] = pd.to_numeric(df[col], errors='coerce') #Convert to numeric, coercing errors to NaN\n",
    "        # fill NaN values with the mean of the column\n",
    "        df[col] = df[col].fillna(df[col].median())\n",
    "        \n",
    "# For categorical columns, we can fill missing values with the mode\n",
    "categorical_cols = ['Signal']\n",
    "for col in categorical_cols:\n",
    "    if col in df.columns:\n",
    "        df[col] = df[col].fillna(df[col].mode()[0])  # fill NaN values with the mode of the column\n",
    "# Check again for missing values\n",
    "print(\"Missing values after handling:\")\n",
    "print(df.isnull().sum())\n",
    "        "
   ]
  },
  {
   "cell_type": "code",
   "execution_count": 8,
   "id": "8fd51533",
   "metadata": {},
   "outputs": [],
   "source": [
    "#data in wrong format\n",
    "# Data in Wrong Format\n",
    "# Convert 'Date' column to datetime format\n",
    "df['Date'] = pd.to_datetime(df['Date'], errors='coerce')\n",
    "\n",
    "# Handle volume column with 'error' values\n",
    "df['Volume'] = pd.to_numeric(df['Volume'], errors='coerce')  # Convert to numeric, coercing errors to NaN\n",
    "# Fill NaN values in 'Volume' with the median\n",
    "df['Volume'] = df['Volume'].fillna(df['Volume'].median())\n",
    "# Clean the confidence column\n",
    "df['Confidence'] = pd.to_numeric(df['Confidence'], errors='coerce')  # Convert to numeric, coercing errors to NaN\n",
    "# Fill NaN values in 'Confidence' with the median\n",
    "df['Confidence'] = df['Confidence'].fillna(df['Confidence'].median())"
   ]
  },
  {
   "cell_type": "code",
   "execution_count": 7,
   "id": "2d8b9ee6",
   "metadata": {},
   "outputs": [
    {
     "name": "stdout",
     "output_type": "stream",
     "text": [
      "Number of duplicate rows: 10\n"
     ]
    }
   ],
   "source": [
    "#check for duplicate rows\n",
    "print(\"Number of duplicate rows:\", df.duplicated().sum())"
   ]
  },
  {
   "cell_type": "code",
   "execution_count": 9,
   "id": "5224a715",
   "metadata": {},
   "outputs": [
    {
     "name": "stdout",
     "output_type": "stream",
     "text": [
      "Data types after conversion:\n",
      "Date               datetime64[ns]\n",
      "Open                      float64\n",
      "High                      float64\n",
      "Low                       float64\n",
      "Close                     float64\n",
      "Volume                    float64\n",
      "Predicted_Close           float64\n",
      "Currency_Pair              object\n",
      "Signal                     object\n",
      "Confidence                float64\n",
      "dtype: object\n"
     ]
    }
   ],
   "source": [
    "# Wrong Data Types\n",
    "price_cols = ['Open', 'High', 'Low', 'Close', 'Predicted_Close']\n",
    "for col in price_cols:\n",
    "    if col in df.columns:\n",
    "       # Remove extreme outliers (beyond 3 standard deviations)\n",
    "       mean = df[col].mean()\n",
    "       std_dev = df[col].std()\n",
    "       df[col] = df[col].apply(lambda x: x if (mean - 3 * std_dev < x < mean + 3 * std_dev) else np.nan)\n",
    "# Fill NaN values in price columns with the median\n",
    "       df[col] = df[col].fillna(df[col].median())\n",
    "# Check data types after conversion\n",
    "print(\"Data types after conversion:\")   \n",
    "print(df.dtypes)"
   ]
  },
  {
   "cell_type": "code",
   "execution_count": null,
   "id": "8b51e862",
   "metadata": {},
   "outputs": [],
   "source": []
  }
 ],
 "metadata": {
  "kernelspec": {
   "display_name": "base",
   "language": "python",
   "name": "python3"
  },
  "language_info": {
   "codemirror_mode": {
    "name": "ipython",
    "version": 3
   },
   "file_extension": ".py",
   "mimetype": "text/x-python",
   "name": "python",
   "nbconvert_exporter": "python",
   "pygments_lexer": "ipython3",
   "version": "3.12.7"
  }
 },
 "nbformat": 4,
 "nbformat_minor": 5
}
