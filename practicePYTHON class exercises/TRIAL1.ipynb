{
 "cells": [
  {
   "cell_type": "code",
   "execution_count": 1,
   "id": "a72203a9-3ab2-48a3-8d33-1bdd27902ce9",
   "metadata": {},
   "outputs": [
    {
     "name": "stdout",
     "output_type": "stream",
     "text": [
      "martina\n"
     ]
    }
   ],
   "source": [
    "print(\"martina\")"
   ]
  },
  {
   "cell_type": "code",
   "execution_count": 2,
   "id": "b8ce78cc-2b2c-4a1a-a27e-a7bf856afdf4",
   "metadata": {},
   "outputs": [
    {
     "name": "stdout",
     "output_type": "stream",
     "text": [
      "5\n"
     ]
    }
   ],
   "source": [
    "print(3+2)"
   ]
  },
  {
   "cell_type": "code",
   "execution_count": 3,
   "id": "ca8bae03-cd31-457c-87e1-e31a961c3a33",
   "metadata": {},
   "outputs": [
    {
     "name": "stdout",
     "output_type": "stream",
     "text": [
      "Melissa\n"
     ]
    }
   ],
   "source": [
    "mylist=[\"Martina\",\"Melissa\",\"Nina\",\"Sammy\",\"Zira\"]\n",
    "print(mylist[1])"
   ]
  },
  {
   "cell_type": "code",
   "execution_count": 5,
   "id": "41014e80-d0b5-4a46-b350-61326a37e635",
   "metadata": {},
   "outputs": [
    {
     "name": "stdout",
     "output_type": "stream",
     "text": [
      "Martina\n"
     ]
    }
   ],
   "source": [
    "print (mylist[0])\n"
   ]
  },
  {
   "cell_type": "code",
   "execution_count": 7,
   "id": "a59166f4-6a2a-44ed-88a2-b04571b78803",
   "metadata": {},
   "outputs": [
    {
     "name": "stdout",
     "output_type": "stream",
     "text": [
      "Vero\n"
     ]
    }
   ],
   "source": [
    "mylist[0]=\"Vero\"\n",
    "print (mylist[0])"
   ]
  },
  {
   "cell_type": "code",
   "execution_count": 8,
   "id": "1fe0e9cf-f3bb-449c-b903-be283135a917",
   "metadata": {},
   "outputs": [
    {
     "name": "stdout",
     "output_type": "stream",
     "text": [
      "['Vero', 'Melissa', 'Nina', 'Sammy', 'Zira', 'Kerry']\n"
     ]
    }
   ],
   "source": [
    "mylist.append(\"Kerry\")\n",
    "print (mylist)"
   ]
  },
  {
   "cell_type": "code",
   "execution_count": 9,
   "id": "2c4612d5-04e7-4399-93f1-03d7fce74eb2",
   "metadata": {},
   "outputs": [
    {
     "name": "stdout",
     "output_type": "stream",
     "text": [
      "['Vero', 'Melissa', 'Bathel', 'Nina', 'Sammy', 'Zira', 'Kerry']\n"
     ]
    }
   ],
   "source": [
    "mylist.insert (2,\"Bathel\")\n",
    "print (mylist)\n"
   ]
  },
  {
   "cell_type": "code",
   "execution_count": 10,
   "id": "834aa0a2-887f-480c-bb14-51b61f0a1517",
   "metadata": {},
   "outputs": [],
   "source": [
    "mylist.remove(\"Nina\")"
   ]
  },
  {
   "cell_type": "code",
   "execution_count": 11,
   "id": "c08a7372-a37d-480e-9478-702df2be9f7e",
   "metadata": {},
   "outputs": [
    {
     "name": "stdout",
     "output_type": "stream",
     "text": [
      "['Vero', 'Melissa', 'Bathel', 'Sammy', 'Zira', 'Kerry']\n"
     ]
    }
   ],
   "source": [
    "print (mylist)"
   ]
  },
  {
   "cell_type": "code",
   "execution_count": null,
   "id": "19539be3-8462-4652-9fc0-a2f2f9eba5b9",
   "metadata": {},
   "outputs": [],
   "source": []
  }
 ],
 "metadata": {
  "kernelspec": {
   "display_name": "Python [conda env:base] *",
   "language": "python",
   "name": "conda-base-py"
  },
  "language_info": {
   "codemirror_mode": {
    "name": "ipython",
    "version": 3
   },
   "file_extension": ".py",
   "mimetype": "text/x-python",
   "name": "python",
   "nbconvert_exporter": "python",
   "pygments_lexer": "ipython3",
   "version": "3.12.7"
  }
 },
 "nbformat": 4,
 "nbformat_minor": 5
}
