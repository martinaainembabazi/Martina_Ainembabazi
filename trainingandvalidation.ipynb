{
 "cells": [
  {
   "cell_type": "code",
   "execution_count": null,
   "id": "5e9cbdba",
   "metadata": {},
   "outputs": [],
   "source": [
    "#Training and validation\n",
    "#represents the  discrepancy between the predicted output and the avtual target value\n",
    "#training loss or error -refer to the erroron the data that the modelwas trained on\n",
    "#validation loss or error - refers to the error on the validation set "
   ]
  },
  {
   "cell_type": "code",
   "execution_count": null,
   "id": "d46714fe",
   "metadata": {},
   "outputs": [],
   "source": [
    "#Key points on training loss\n",
    "#1.directly affects weight adjustmentsin the model\n",
    "#provides insight into how well the model is learning from the training data\n",
    "#\n",
    "#common training loss functions\n",
    "#1. Mean Squared Error (MSE): Measures the average squared difference between predicted and actual values.\n",
    "#2. Cross-Entropy Loss: Used for classification tasks, measures the dissimilarity between predicted probabilities and actual class labels.\n",
    "\n",
    "#validation error\n",
    "\n",
    "#1. provides insight into how well the model generalizes to unseen data\n",
    "#2. helps in detecting overfitting, where the model performs well on training data but poorly on validation data\n",
    "#it is used as a criterion for early stopping during training\n",
    "\n",
    "#relevance of tracking both losses\n"
   ]
  },
  {
   "cell_type": "code",
   "execution_count": null,
   "id": "dc05650b",
   "metadata": {},
   "outputs": [],
   "source": [
    "import numpy as py\n",
    "import pandas as pd\n",
    "import matplotlib.pyplot as plt\n",
    "import seaborn as sb\n",
    "from sklearn.model_selection import train_test_split\n",
    "from sklearn.preprocessing import LabelEncoder,StandardScaler\n",
    "from  sklearn.feature_extraction.text import CountVectorizer\n",
    "from sklearn import metrics\n",
    "from xgboost import XGBRegressor"
   ]
  },
  {
   "cell_type": "code",
   "execution_count": null,
   "id": "7582a878",
   "metadata": {},
   "outputs": [],
   "source": [
    "pd=df.read_csv('Churn.csv')"
   ]
  }
 ],
 "metadata": {
  "kernelspec": {
   "display_name": "base",
   "language": "python",
   "name": "python3"
  },
  "language_info": {
   "codemirror_mode": {
    "name": "ipython",
    "version": 3
   },
   "file_extension": ".py",
   "mimetype": "text/x-python",
   "name": "python",
   "nbconvert_exporter": "python",
   "pygments_lexer": "ipython3",
   "version": "3.12.7"
  }
 },
 "nbformat": 4,
 "nbformat_minor": 5
}
